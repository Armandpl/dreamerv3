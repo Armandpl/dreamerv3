{
 "cells": [
  {
   "cell_type": "code",
   "execution_count": 21,
   "metadata": {},
   "outputs": [],
   "source": [
    "gym_id_to_task = {\n",
    "    'ALE/Pong-v5': 'atari_pong',\n",
    "    'ALE/MsPacman-v5': 'atari_ms_pacman',\n",
    "}\n",
    "\n",
    "RUN_IDS = [\"ez5lxzjq\", \"t57gvwnw\"]\n",
    "ROLLING_WINDOW = 10"
   ]
  },
  {
   "cell_type": "code",
   "execution_count": 22,
   "metadata": {},
   "outputs": [
    {
     "name": "stderr",
     "output_type": "stream",
     "text": [
      "100%|██████████| 2/2 [01:07<00:00, 33.60s/it]\n"
     ]
    }
   ],
   "source": [
    "import wandb\n",
    "from tqdm import tqdm\n",
    "\n",
    "api = wandb.Api()\n",
    "data = []\n",
    "\n",
    "def get_run_data(api, run_id):\n",
    "    run = api.run(f\"armandpl/minidream_dev/{run_id}\")\n",
    "    history = run.scan_history(keys=[\"episode_return\", \"global_step\"])\n",
    "\n",
    "    xs = []\n",
    "    ys = []\n",
    "\n",
    "    for row in history:\n",
    "        xs.append(row[\"global_step\"])\n",
    "        ys.append(row[\"episode_return\"])\n",
    "\n",
    "    # rolling average over ten episodes\n",
    "    ys_rolling = [sum(ys[i-ROLLING_WINDOW:i])/ROLLING_WINDOW for i in range(ROLLING_WINDOW, len(ys))]\n",
    "    xs_rolling = xs[ROLLING_WINDOW:]\n",
    "\n",
    "    task = gym_id_to_task[run.config[\"env\"][\"env_id\"]]\n",
    "    return {\n",
    "        \"task\": task,\n",
    "        \"method\": \"this repo, 10 ep rolling average\",\n",
    "        \"seed\": 0,\n",
    "        \"xs\": xs_rolling,\n",
    "        \"ys\": ys_rolling\n",
    "    }\n",
    "\n",
    "for run_id in tqdm(RUN_IDS):\n",
    "    data.append(get_run_data(api, run_id))"
   ]
  },
  {
   "cell_type": "code",
   "execution_count": 4,
   "metadata": {},
   "outputs": [
    {
     "name": "stdout",
     "output_type": "stream",
     "text": [
      "--2024-03-17 12:48:00--  https://github.com/danijar/dreamerv3/raw/main/scores/data/atari100k_dreamerv3.json.gz\n",
      "Resolving github.com (github.com)... 140.82.121.4\n",
      "Connecting to github.com (github.com)|140.82.121.4|:443... connected.\n",
      "HTTP request sent, awaiting response... 302 Found\n",
      "Location: https://raw.githubusercontent.com/danijar/dreamerv3/main/scores/data/atari100k_dreamerv3.json.gz [following]\n",
      "--2024-03-17 12:48:01--  https://raw.githubusercontent.com/danijar/dreamerv3/main/scores/data/atari100k_dreamerv3.json.gz\n",
      "Resolving raw.githubusercontent.com (raw.githubusercontent.com)... 2606:50c0:8000::154, 2606:50c0:8003::154, 2606:50c0:8001::154, ...\n",
      "Connecting to raw.githubusercontent.com (raw.githubusercontent.com)|2606:50c0:8000::154|:443... connected.\n",
      "HTTP request sent, awaiting response... 200 OK\n",
      "Length: 17529 (17K) [application/octet-stream]\n",
      "Saving to: ‘atari100k_dreamerv3.json.gz’\n",
      "\n",
      "atari100k_dreamerv3 100%[===================>]  17,12K  --.-KB/s    in 0,002s  \n",
      "\n",
      "2024-03-17 12:48:01 (8,35 MB/s) - ‘atari100k_dreamerv3.json.gz’ saved [17529/17529]\n",
      "\n"
     ]
    }
   ],
   "source": [
    "# download official scores\n",
    "!wget https://github.com/danijar/dreamerv3/raw/main/scores/data/atari100k_dreamerv3.json.gz"
   ]
  },
  {
   "cell_type": "code",
   "execution_count": 5,
   "metadata": {},
   "outputs": [],
   "source": [
    "import gzip\n",
    "import json\n",
    "\n",
    "# load the official implementation data\n",
    "with gzip.open(\"./atari100k_dreamerv3.json.gz\", 'rb') as f:\n",
    "    official_scores = json.load(f)"
   ]
  },
  {
   "cell_type": "code",
   "execution_count": 37,
   "metadata": {},
   "outputs": [],
   "source": [
    "import matplotlib.pyplot as plt\n",
    "import numpy as np\n",
    "\n",
    "unique_tasks = set([x[\"task\"] for x in data])\n",
    "\n",
    "for task in unique_tasks:\n",
    "    official = [x for x in official_scores if x[\"task\"] == task]\n",
    "\n",
    "    # interpolate their data so its easier to do the mean + std\n",
    "    # TODO maybe that's a mistake though?\n",
    "    for i in range(len(official)):\n",
    "        xs = official[i][\"xs\"]\n",
    "        ys = official[i][\"ys\"]\n",
    "\n",
    "        xs = [int(x//4) for x in xs] # divide by 4 bc of frameskip=4\n",
    "        new_xs = range(max(xs))\n",
    "        new_ys = interpolated_values = np.interp(x=new_xs, xp=xs, fp=ys)\n",
    "        official[i][\"xs\"] = new_xs\n",
    "        official[i][\"ys\"] = new_ys\n",
    "    \n",
    "    # get the mean and std at each point\n",
    "    mean = np.nanmean([x[\"ys\"] for x in official], axis=0)\n",
    "    std = np.nanstd([x[\"ys\"] for x in official], axis=0)\n",
    "    low = mean - std\n",
    "    high = mean + std\n",
    "\n",
    "    # plot curve\n",
    "    plt.fill_between(official[0][\"xs\"], low, high, alpha=0.3)\n",
    "    # plot mean\n",
    "    plt.plot(official[0][\"xs\"], mean, label=\"danijar/dreamerv3\")\n",
    "\n",
    "    ours = [x for x in data if x[\"task\"] == task][0] # assume only one curve in our data\n",
    "    plt.plot(ours[\"xs\"], ours[\"ys\"], label=f\"this repo, {ROLLING_WINDOW} ep rolling avg\")\n",
    "\n",
    "    # setup plot\n",
    "    plt.title(task)\n",
    "    plt.xlabel(\"Steps\")\n",
    "    plt.ylabel(\"Episode Return\")\n",
    "    plt.legend()\n",
    "    plt.ticklabel_format(style='sci', axis='x', scilimits=(0,0))\n",
    "    plt.savefig(f\"../scores/{task}.jpg\")\n",
    "    plt.close()"
   ]
  }
 ],
 "metadata": {
  "kernelspec": {
   "display_name": ".venv",
   "language": "python",
   "name": "python3"
  },
  "language_info": {
   "codemirror_mode": {
    "name": "ipython",
    "version": 3
   },
   "file_extension": ".py",
   "mimetype": "text/x-python",
   "name": "python",
   "nbconvert_exporter": "python",
   "pygments_lexer": "ipython3",
   "version": "3.9.18"
  }
 },
 "nbformat": 4,
 "nbformat_minor": 2
}
